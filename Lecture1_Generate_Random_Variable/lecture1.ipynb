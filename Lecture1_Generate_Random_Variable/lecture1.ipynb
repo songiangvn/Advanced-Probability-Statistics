{
  "cells": [
    {
      "cell_type": "markdown",
      "id": "2a314a15",
      "metadata": {
        "id": "2a314a15"
      },
      "source": [
        "# Import necessary libraries"
      ]
    },
    {
      "cell_type": "code",
      "execution_count": 1,
      "id": "f1e8cc79",
      "metadata": {
        "id": "f1e8cc79"
      },
      "outputs": [],
      "source": [
        "import numpy as np\n",
        "import scipy as sp\n",
        "import matplotlib.pyplot as plt\n",
        "from math import factorial\n",
        "# Set up random generator\n",
        "rng = np.random.default_rng()"
      ]
    },
    {
      "cell_type": "markdown",
      "id": "540753aa",
      "metadata": {
        "id": "540753aa"
      },
      "source": [
        "# Bernoulli Simulation"
      ]
    },
    {
      "cell_type": "code",
      "execution_count": 2,
      "id": "58468cb5",
      "metadata": {
        "id": "58468cb5"
      },
      "outputs": [],
      "source": [
        "def bernoulli(p):\n",
        "    U = rng.random()\n",
        "    return U < p"
      ]
    },
    {
      "cell_type": "code",
      "source": [
        "# Example usage of Bernoulli Simulation\n",
        "p = 0.3  # Probability of success\n",
        "trials = 20\n",
        "results = [bernoulli(p) for _ in range(trials)]\n",
        "print(\"Bernoulli trials results:\", results)\n",
        "print(f\"Bernoulli outcome {sum(results)}/10 successes\")"
      ],
      "metadata": {
        "colab": {
          "base_uri": "https://localhost:8080/"
        },
        "id": "tBpRTgx5cVpo",
        "outputId": "1dbf0b19-3a3a-424e-db4c-22705ed788e1"
      },
      "id": "tBpRTgx5cVpo",
      "execution_count": 3,
      "outputs": [
        {
          "output_type": "stream",
          "name": "stdout",
          "text": [
            "Bernoulli trials results: [False, True, False, False, False, False, True, True, True, False, False, False, False, False, True, False, False, False, True, False]\n",
            "Bernoulli outcome 6/10 successes\n"
          ]
        }
      ]
    },
    {
      "cell_type": "markdown",
      "id": "4605aa71",
      "metadata": {
        "id": "4605aa71"
      },
      "source": [
        "# Binomial Simulation"
      ]
    },
    {
      "cell_type": "code",
      "execution_count": 4,
      "id": "96f38c51",
      "metadata": {
        "id": "96f38c51"
      },
      "outputs": [],
      "source": [
        "def binomial(n, p):\n",
        "    U = rng.random(n)\n",
        "    return sum(U < p)"
      ]
    },
    {
      "cell_type": "code",
      "source": [
        "# Example usage of Binomial Simulation\n",
        "n_trials = 50\n",
        "p_success = 0.2\n",
        "binomial_result = binomial(n_trials, p_success)\n",
        "print(f\"Binomial outcome: {binomial_result}/{n_trials} successes\")"
      ],
      "metadata": {
        "colab": {
          "base_uri": "https://localhost:8080/"
        },
        "id": "h5DyKxJmc4kX",
        "outputId": "e84cb0d7-f135-44a6-c450-686906695306"
      },
      "id": "h5DyKxJmc4kX",
      "execution_count": 5,
      "outputs": [
        {
          "output_type": "stream",
          "name": "stdout",
          "text": [
            "Binomial outcome: 7/50 successes\n"
          ]
        }
      ]
    },
    {
      "cell_type": "markdown",
      "id": "da9d5ce9",
      "metadata": {
        "id": "da9d5ce9"
      },
      "source": [
        "# Generating Arbitrary Discrete Distributions"
      ]
    },
    {
      "cell_type": "code",
      "source": [
        "def X():\n",
        "    A = [0.35,0.5,0.9,1]\n",
        "    x = [1,2,3,4]\n",
        "    j = 0\n",
        "    U = rng.random()\n",
        "    while U > A[j]:\n",
        "        j = j + 1\n",
        "    return x[j]\n",
        "X()"
      ],
      "metadata": {
        "colab": {
          "base_uri": "https://localhost:8080/"
        },
        "id": "poPmVl5jdQBS",
        "outputId": "5660fe40-ee43-43cf-9bc5-bed4be99dbd9"
      },
      "id": "poPmVl5jdQBS",
      "execution_count": 6,
      "outputs": [
        {
          "output_type": "execute_result",
          "data": {
            "text/plain": [
              "3"
            ]
          },
          "metadata": {},
          "execution_count": 6
        }
      ]
    },
    {
      "cell_type": "code",
      "execution_count": 7,
      "id": "a58fca0e",
      "metadata": {
        "colab": {
          "base_uri": "https://localhost:8080/"
        },
        "id": "a58fca0e",
        "outputId": "84b5ebc3-000e-47cb-9f86-e63fc818c76b"
      },
      "outputs": [
        {
          "output_type": "execute_result",
          "data": {
            "text/plain": [
              "1"
            ]
          },
          "metadata": {},
          "execution_count": 7
        }
      ],
      "source": [
        "def generate_discrete(x_list, p_list):\n",
        "    A = np.cumsum(p_list)\n",
        "    U = rng.random()\n",
        "    return x_list[np.searchsorted(A, U)]\n",
        "generate_discrete([-1,1,4,5], [0.2,0.1,0.3,0.4])"
      ]
    },
    {
      "cell_type": "markdown",
      "source": [
        "# Poisson Simulation"
      ],
      "metadata": {
        "id": "CsbgCr3DrDWa"
      },
      "id": "CsbgCr3DrDWa"
    },
    {
      "cell_type": "code",
      "source": [
        "def poisson(lam):\n",
        "    def pdf(i):\n",
        "        return np.exp(-lam)*lam**i/factorial(i)\n",
        "    def cdf(i):\n",
        "        return sum([pdf(j) for j in range(i+1)])\n",
        "    U = rng.random()\n",
        "    i = 0\n",
        "    while U > cdf(i):\n",
        "        i = i+1\n",
        "    return i\n",
        "poisson(2)"
      ],
      "metadata": {
        "colab": {
          "base_uri": "https://localhost:8080/"
        },
        "id": "LhAxYLRWnKrO",
        "outputId": "d69bb090-a14e-4465-9377-53c6fa889241"
      },
      "id": "LhAxYLRWnKrO",
      "execution_count": 8,
      "outputs": [
        {
          "output_type": "execute_result",
          "data": {
            "text/plain": [
              "2"
            ]
          },
          "metadata": {},
          "execution_count": 8
        }
      ]
    },
    {
      "cell_type": "markdown",
      "id": "b602c31e",
      "metadata": {
        "id": "b602c31e"
      },
      "source": [
        "# Exponential Distribution Simulation"
      ]
    },
    {
      "cell_type": "code",
      "execution_count": 9,
      "id": "9e706f4e",
      "metadata": {
        "id": "9e706f4e"
      },
      "outputs": [],
      "source": [
        "def exponential():\n",
        "    U = rng.random()\n",
        "    return -np.log(U)"
      ]
    },
    {
      "cell_type": "markdown",
      "source": [
        "# Generating given cumulative function"
      ],
      "metadata": {
        "id": "KXqIOVgqs2U2"
      },
      "id": "KXqIOVgqs2U2"
    },
    {
      "cell_type": "code",
      "source": [
        "def X():\n",
        "    U = rng.random()\n",
        "    return np.sqrt(2*U + 1/4)- 1/2\n",
        "X()"
      ],
      "metadata": {
        "colab": {
          "base_uri": "https://localhost:8080/"
        },
        "id": "FNhEON1Lr8Qp",
        "outputId": "f81b041f-c734-43ec-b070-fc48a00a426f"
      },
      "id": "FNhEON1Lr8Qp",
      "execution_count": 10,
      "outputs": [
        {
          "output_type": "execute_result",
          "data": {
            "text/plain": [
              "0.9920016264255087"
            ]
          },
          "metadata": {},
          "execution_count": 10
        }
      ]
    },
    {
      "cell_type": "markdown",
      "source": [
        "# Generating given density function"
      ],
      "metadata": {
        "id": "qm8sHX3Orthq"
      },
      "id": "qm8sHX3Orthq"
    },
    {
      "cell_type": "code",
      "source": [
        "def X():\n",
        "    U = rng.random()\n",
        "    return U**(2/5)\n",
        "X()"
      ],
      "metadata": {
        "colab": {
          "base_uri": "https://localhost:8080/"
        },
        "id": "5wlR7hXOrw79",
        "outputId": "0bac1b33-3b91-4e58-e354-c0826e419489"
      },
      "id": "5wlR7hXOrw79",
      "execution_count": 11,
      "outputs": [
        {
          "output_type": "execute_result",
          "data": {
            "text/plain": [
              "0.714183529338157"
            ]
          },
          "metadata": {},
          "execution_count": 11
        }
      ]
    },
    {
      "cell_type": "markdown",
      "id": "014be1a6",
      "metadata": {
        "id": "014be1a6"
      },
      "source": [
        "# Standard Normal Distribution via Rejection Method"
      ]
    },
    {
      "cell_type": "code",
      "execution_count": 12,
      "id": "b286dc19",
      "metadata": {
        "colab": {
          "base_uri": "https://localhost:8080/"
        },
        "id": "b286dc19",
        "outputId": "32e5f766-4bf7-4a87-a296-9d622ee1db63"
      },
      "outputs": [
        {
          "output_type": "execute_result",
          "data": {
            "text/plain": [
              "1.077909444629512"
            ]
          },
          "metadata": {},
          "execution_count": 12
        }
      ],
      "source": [
        "def standard_normal():\n",
        "    while True:\n",
        "        Y = -np.log(rng.random())\n",
        "        U = rng.random()\n",
        "        if U <= np.exp(-(Y - 1)**2 / 2):\n",
        "            return Y\n",
        "standard_normal()"
      ]
    }
  ],
  "metadata": {
    "colab": {
      "provenance": []
    },
    "language_info": {
      "name": "python"
    },
    "kernelspec": {
      "name": "python3",
      "display_name": "Python 3"
    }
  },
  "nbformat": 4,
  "nbformat_minor": 5
}